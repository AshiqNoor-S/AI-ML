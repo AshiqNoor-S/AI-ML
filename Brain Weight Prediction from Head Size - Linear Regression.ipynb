{
 "cells": [
  {
   "cell_type": "code",
   "execution_count": 5,
   "id": "single-growth",
   "metadata": {},
   "outputs": [],
   "source": [
    "import numpy as np\n",
    "import pandas as pd\n",
    "import matplotlib.pyplot as plt\n",
    "\n",
    "# Set the figure size for your plots\n",
    "plt.rcParams['figure.figsize'] = (20.0, 10.0)\n",
    "\n",
    "# Enable inline plotting in Jupyter Notebook\n",
    "%matplotlib inline\n"
   ]
  },
  {
   "cell_type": "markdown",
   "id": "aboriginal-behalf",
   "metadata": {},
   "source": [
    "### Loading the dataset"
   ]
  },
  {
   "cell_type": "code",
   "execution_count": 6,
   "id": "attended-priority",
   "metadata": {},
   "outputs": [
    {
     "data": {
      "text/html": [
       "<div>\n",
       "<style scoped>\n",
       "    .dataframe tbody tr th:only-of-type {\n",
       "        vertical-align: middle;\n",
       "    }\n",
       "\n",
       "    .dataframe tbody tr th {\n",
       "        vertical-align: top;\n",
       "    }\n",
       "\n",
       "    .dataframe thead th {\n",
       "        text-align: right;\n",
       "    }\n",
       "</style>\n",
       "<table border=\"1\" class=\"dataframe\">\n",
       "  <thead>\n",
       "    <tr style=\"text-align: right;\">\n",
       "      <th></th>\n",
       "      <th>Gender</th>\n",
       "      <th>Age Range</th>\n",
       "      <th>Head Size(cm^3)</th>\n",
       "      <th>Brain Weight(grams)</th>\n",
       "    </tr>\n",
       "  </thead>\n",
       "  <tbody>\n",
       "    <tr>\n",
       "      <th>0</th>\n",
       "      <td>1</td>\n",
       "      <td>1</td>\n",
       "      <td>4512</td>\n",
       "      <td>1530</td>\n",
       "    </tr>\n",
       "    <tr>\n",
       "      <th>1</th>\n",
       "      <td>1</td>\n",
       "      <td>1</td>\n",
       "      <td>3738</td>\n",
       "      <td>1297</td>\n",
       "    </tr>\n",
       "    <tr>\n",
       "      <th>2</th>\n",
       "      <td>1</td>\n",
       "      <td>1</td>\n",
       "      <td>4261</td>\n",
       "      <td>1335</td>\n",
       "    </tr>\n",
       "    <tr>\n",
       "      <th>3</th>\n",
       "      <td>1</td>\n",
       "      <td>1</td>\n",
       "      <td>3777</td>\n",
       "      <td>1282</td>\n",
       "    </tr>\n",
       "    <tr>\n",
       "      <th>4</th>\n",
       "      <td>1</td>\n",
       "      <td>1</td>\n",
       "      <td>4177</td>\n",
       "      <td>1590</td>\n",
       "    </tr>\n",
       "    <tr>\n",
       "      <th>5</th>\n",
       "      <td>1</td>\n",
       "      <td>1</td>\n",
       "      <td>3585</td>\n",
       "      <td>1300</td>\n",
       "    </tr>\n",
       "    <tr>\n",
       "      <th>6</th>\n",
       "      <td>1</td>\n",
       "      <td>1</td>\n",
       "      <td>3785</td>\n",
       "      <td>1400</td>\n",
       "    </tr>\n",
       "    <tr>\n",
       "      <th>7</th>\n",
       "      <td>1</td>\n",
       "      <td>1</td>\n",
       "      <td>3559</td>\n",
       "      <td>1255</td>\n",
       "    </tr>\n",
       "    <tr>\n",
       "      <th>8</th>\n",
       "      <td>1</td>\n",
       "      <td>1</td>\n",
       "      <td>3613</td>\n",
       "      <td>1355</td>\n",
       "    </tr>\n",
       "    <tr>\n",
       "      <th>9</th>\n",
       "      <td>1</td>\n",
       "      <td>1</td>\n",
       "      <td>3982</td>\n",
       "      <td>1375</td>\n",
       "    </tr>\n",
       "  </tbody>\n",
       "</table>\n",
       "</div>"
      ],
      "text/plain": [
       "   Gender  Age Range  Head Size(cm^3)  Brain Weight(grams)\n",
       "0       1          1             4512                 1530\n",
       "1       1          1             3738                 1297\n",
       "2       1          1             4261                 1335\n",
       "3       1          1             3777                 1282\n",
       "4       1          1             4177                 1590\n",
       "5       1          1             3585                 1300\n",
       "6       1          1             3785                 1400\n",
       "7       1          1             3559                 1255\n",
       "8       1          1             3613                 1355\n",
       "9       1          1             3982                 1375"
      ]
     },
     "execution_count": 6,
     "metadata": {},
     "output_type": "execute_result"
    }
   ],
   "source": [
    "df = pd.read_csv('headbrain.csv')\n",
    "df.head(10)"
   ]
  },
  {
   "cell_type": "markdown",
   "id": "isolated-desert",
   "metadata": {},
   "source": [
    "### Choosing the dependent and independent variables"
   ]
  },
  {
   "cell_type": "code",
   "execution_count": 9,
   "id": "cathedral-shirt",
   "metadata": {},
   "outputs": [],
   "source": [
    "X = df['Head Size(cm^3)'].values\n",
    "Y = df['Brain Weight(grams)'].values"
   ]
  },
  {
   "cell_type": "markdown",
   "id": "editorial-stockholm",
   "metadata": {},
   "source": [
    "## Linear Regression Using least square method"
   ]
  },
  {
   "cell_type": "markdown",
   "id": "foreign-smith",
   "metadata": {},
   "source": [
    "### Calculating the slope and constant value"
   ]
  },
  {
   "cell_type": "code",
   "execution_count": 12,
   "id": "hydraulic-allergy",
   "metadata": {},
   "outputs": [
    {
     "data": {
      "text/plain": [
       "(325.57342104944223, 0.26342933948939945)"
      ]
     },
     "execution_count": 12,
     "metadata": {},
     "output_type": "execute_result"
    }
   ],
   "source": [
    "mean_x = np.mean(X)\n",
    "mean_y = np.mean(Y)\n",
    "\n",
    "n = len(X)\n",
    "\n",
    "numer = 0\n",
    "denom = 0\n",
    "\n",
    "for i in range(n):\n",
    "    numer+= (X[i]-mean_x)*(Y[i]-mean_y)\n",
    "    denom+= (X[i]-mean_x)**2\n",
    "    \n",
    "b1 = numer/denom\n",
    "b0 = mean_y - (b1*mean_x)\n",
    "\n",
    "b0,b1"
   ]
  },
  {
   "cell_type": "markdown",
   "id": "worst-piano",
   "metadata": {},
   "source": [
    "### Plotting the values and regression line"
   ]
  },
  {
   "cell_type": "code",
   "execution_count": 16,
   "id": "bound-humor",
   "metadata": {},
   "outputs": [
    {
     "data": {
      "image/png": "[encoded data removed]",
      "text/plain": [
       "<Figure size 432x288 with 1 Axes>"
      ]
     },
     "metadata": {
      "needs_background": "light"
     },
     "output_type": "display_data"
    }
   ],
   "source": [
    "max_x = np.max(X)+100\n",
    "min_x = np.min(X)-100\n",
    "\n",
    "x = np.linspace(min_x,max_x,1000)\n",
    "y = b1*x+b0\n",
    "\n",
    "plt.plot(x,y,color=\"blue\",label=\"Regression Line\")\n",
    "plt.scatter(X,Y,color=\"orange\",label=\"Scatter Plot\")\n",
    "\n",
    "plt.xlabel(\"Head size in cm^3\")\n",
    "plt.ylabel(\"Head wieght in grams\")\n",
    "plt.legend\n",
    "plt.show()"
   ]
  },
  {
   "cell_type": "markdown",
   "id": "broad-lying",
   "metadata": {},
   "source": [
    "### Model Good Fit"
   ]
  },
  {
   "cell_type": "code",
   "execution_count": 19,
   "id": "going-astronomy",
   "metadata": {},
   "outputs": [
    {
     "data": {
      "text/plain": [
       "0.6393117199570003"
      ]
     },
     "execution_count": 19,
     "metadata": {},
     "output_type": "execute_result"
    }
   ],
   "source": [
    "ss_t = 0\n",
    "ss_r = 0\n",
    "for i in range(n):\n",
    "    y_pred = b0 + b1*X[i]\n",
    "    ss_t += (Y[i] - mean_y) ** 2\n",
    "    ss_r += (Y[i] - y_pred) ** 2\n",
    "r2 = 1-(ss_r/ss_t)\n",
    "r2"
   ]
  },
  {
   "cell_type": "markdown",
   "id": "close-advisory",
   "metadata": {},
   "source": [
    "## Linear Regression using scikit-learn"
   ]
  },
  {
   "cell_type": "code",
   "execution_count": 23,
   "id": "developmental-likelihood",
   "metadata": {},
   "outputs": [],
   "source": [
    "from sklearn.linear_model import LinearRegression\n",
    "from sklearn.metrics import mean_squared_error"
   ]
  },
  {
   "cell_type": "code",
   "execution_count": 25,
   "id": "cardiovascular-negative",
   "metadata": {},
   "outputs": [],
   "source": [
    "# Cannot use Rank 1 matrix in scikit learn\n",
    "X = X.reshape((n,1))\n",
    "#Creating the model\n",
    "reg = LinearRegression()\n",
    "#Fitting training data\n",
    "reg = reg.fit(X,Y)\n",
    "#Y prediction\n",
    "Y_pred = reg.predict(X)"
   ]
  },
  {
   "cell_type": "code",
   "execution_count": 26,
   "id": "round-journalism",
   "metadata": {},
   "outputs": [],
   "source": [
    "#Calculating RMSE and R2 Score\n",
    "mse = mean_squared_error(Y,Y_pred)\n",
    "rmse = np.sqrt(mse)\n",
    "r2_score = reg.score(X,Y)"
   ]
  },
  {
   "cell_type": "code",
   "execution_count": 27,
   "id": "working-trace",
   "metadata": {},
   "outputs": [
    {
     "name": "stdout",
     "output_type": "stream",
     "text": [
      "72.1206213783709\n",
      "0.639311719957\n"
     ]
    }
   ],
   "source": [
    "print(np.sqrt(mse))\n",
    "print(r2_score)"
   ]
  }
 ],
 "metadata": {
  "kernelspec": {
   "display_name": "Python 3 (ipykernel)",
   "language": "python",
   "name": "python3"
  },
  "language_info": {
   "codemirror_mode": {
    "name": "ipython",
    "version": 3
   },
   "file_extension": ".py",
   "mimetype": "text/x-python",
   "name": "python",
   "nbconvert_exporter": "python",
   "pygments_lexer": "ipython3",
   "version": "3.10.0"
  }
 },
 "nbformat": 4,
 "nbformat_minor": 5
}
