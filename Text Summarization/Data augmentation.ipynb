{
 "cells": [
  {
   "cell_type": "code",
   "execution_count": 12,
   "id": "90e2ae75",
   "metadata": {},
   "outputs": [
    {
     "name": "stderr",
     "output_type": "stream",
     "text": [
      "[nltk_data] Downloading package punkt to\n",
      "[nltk_data]     C:\\Users\\user\\AppData\\Roaming\\nltk_data...\n",
      "[nltk_data]   Unzipping tokenizers\\punkt.zip.\n",
      "[nltk_data] Downloading package wordnet to\n",
      "[nltk_data]     C:\\Users\\user\\AppData\\Roaming\\nltk_data...\n",
      "[nltk_data]   Package wordnet is already up-to-date!\n",
      "[nltk_data] Downloading package stopwords to\n",
      "[nltk_data]     C:\\Users\\user\\AppData\\Roaming\\nltk_data...\n",
      "[nltk_data]   Unzipping corpora\\stopwords.zip.\n"
     ]
    },
    {
     "data": {
      "text/plain": [
       "True"
      ]
     },
     "execution_count": 12,
     "metadata": {},
     "output_type": "execute_result"
    }
   ],
   "source": [
    "import nltk\n",
    "nltk.download('punkt')\n",
    "nltk.download('wordnet')\n",
    "nltk.download('stopwords')"
   ]
  },
  {
   "cell_type": "code",
   "execution_count": 13,
   "id": "8cc8d4df",
   "metadata": {},
   "outputs": [],
   "source": [
    "import pandas as pd\n",
    "from nltk.corpus import wordnet\n",
    "from nltk.tokenize import word_tokenize\n",
    "from nltk.probability import FreqDist\n",
    "from nltk.corpus import stopwords"
   ]
  },
  {
   "cell_type": "code",
   "execution_count": 32,
   "id": "c1101b34",
   "metadata": {},
   "outputs": [],
   "source": [
    "# Load the initial dataset\n",
    "initial_dataset = pd.read_csv('amazonreviews.tsv', delimiter='\\t')\n",
    "\n",
    "# Perform data augmentation using NLTK\n",
    "augmented_data = []\n",
    "stopwords_set = set(stopwords.words('english'))\n",
    "\n",
    "for text in initial_dataset['review']:\n",
    "    tokens = word_tokenize(text)\n",
    "    augmented_tokens = []\n",
    "    \n",
    "    # Synonym Replacement\n",
    "    for token in tokens:\n",
    "        synsets = wordnet.synsets(token)\n",
    "        if synsets:\n",
    "            synonyms = [synset.lemmas()[0].name() for synset in synsets]\n",
    "            augmented_token = synonyms[0] if len(synonyms) == 1 else synonyms[1]\n",
    "        else:\n",
    "            augmented_token = token\n",
    "        augmented_tokens.append(augmented_token)\n",
    "    \n",
    "    # Random Swap\n",
    "    n = len(augmented_tokens)\n",
    "    for i in range(n):\n",
    "        if i < n-1 and i % 2 == 0:\n",
    "            augmented_tokens[i], augmented_tokens[i+1] = augmented_tokens[i+1], augmented_tokens[i]\n",
    "    \n",
    "    # Random Deletion\n",
    "    augmented_tokens = [token for token in augmented_tokens if token.lower() not in stopwords_set or token.lower() == 'not']\n",
    "    augmented_text = ' '.join(augmented_tokens)\n",
    "    augmented_data.append(augmented_text)\n",
    "\n",
    "# Create a new DataFrame with augmented data\n",
    "augmented_dataset = pd.DataFrame({'label': initial_dataset['label'],'review': augmented_data})\n",
    "\n",
    "# Save the augmented dataset to a file\n",
    "augmented_dataset.to_csv('augmented_dataset.tsv', sep='\\t', index=False)\n",
    "\n",
    "# Merge the two datasets into a single file\n",
    "merged_dataset = pd.extend([initial_dataset, augmented_dataset], ignore_index=True)\n",
    "\n",
    "# Save the merged dataset to a file\n",
    "merged_dataset.to_csv('merged_dataset.csv', index=False)"
   ]
  },
  {
   "cell_type": "code",
   "execution_count": 36,
   "id": "2fdf5ad1",
   "metadata": {},
   "outputs": [
    {
     "data": {
      "text/html": [
       "<div>\n",
       "<style scoped>\n",
       "    .dataframe tbody tr th:only-of-type {\n",
       "        vertical-align: middle;\n",
       "    }\n",
       "\n",
       "    .dataframe tbody tr th {\n",
       "        vertical-align: top;\n",
       "    }\n",
       "\n",
       "    .dataframe thead th {\n",
       "        text-align: right;\n",
       "    }\n",
       "</style>\n",
       "<table border=\"1\" class=\"dataframe\">\n",
       "  <thead>\n",
       "    <tr style=\"text-align: right;\">\n",
       "      <th></th>\n",
       "      <th>label</th>\n",
       "      <th>review</th>\n",
       "    </tr>\n",
       "  </thead>\n",
       "  <tbody>\n",
       "    <tr>\n",
       "      <th>19995</th>\n",
       "      <td>pos</td>\n",
       "      <td>revelation vitamin_A life small indium America...</td>\n",
       "    </tr>\n",
       "    <tr>\n",
       "      <th>19996</th>\n",
       "      <td>pos</td>\n",
       "      <td>biography great vitamin_A concern identical : ...</td>\n",
       "    </tr>\n",
       "    <tr>\n",
       "      <th>19997</th>\n",
       "      <td>neg</td>\n",
       "      <td>subject concern hapless ; : presentation 'd di...</td>\n",
       "    </tr>\n",
       "    <tr>\n",
       "      <th>19998</th>\n",
       "      <td>neg</td>\n",
       "      <td>n't : buy box use look information_technology ...</td>\n",
       "    </tr>\n",
       "    <tr>\n",
       "      <th>19999</th>\n",
       "      <td>pos</td>\n",
       "      <td>pen beautiful fast . delivery : pen promptly s...</td>\n",
       "    </tr>\n",
       "  </tbody>\n",
       "</table>\n",
       "</div>"
      ],
      "text/plain": [
       "      label                                             review\n",
       "19995   pos  revelation vitamin_A life small indium America...\n",
       "19996   pos  biography great vitamin_A concern identical : ...\n",
       "19997   neg  subject concern hapless ; : presentation 'd di...\n",
       "19998   neg  n't : buy box use look information_technology ...\n",
       "19999   pos  pen beautiful fast . delivery : pen promptly s..."
      ]
     },
     "execution_count": 36,
     "metadata": {},
     "output_type": "execute_result"
    }
   ],
   "source": [
    "merged_dataset.tail()"
   ]
  },
  {
   "cell_type": "code",
   "execution_count": null,
   "id": "4fbade52",
   "metadata": {},
   "outputs": [],
   "source": []
  }
 ],
 "metadata": {
  "kernelspec": {
   "display_name": "Python 3 (ipykernel)",
   "language": "python",
   "name": "python3"
  },
  "language_info": {
   "codemirror_mode": {
    "name": "ipython",
    "version": 3
   },
   "file_extension": ".py",
   "mimetype": "text/x-python",
   "name": "python",
   "nbconvert_exporter": "python",
   "pygments_lexer": "ipython3",
   "version": "3.10.0"
  }
 },
 "nbformat": 4,
 "nbformat_minor": 5
}
