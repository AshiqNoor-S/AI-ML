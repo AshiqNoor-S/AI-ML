{
 "cells": [
  {
   "cell_type": "markdown",
   "id": "based-notebook",
   "metadata": {},
   "source": [
    "### Importing the required modules"
   ]
  },
  {
   "cell_type": "code",
   "execution_count": 1,
   "id": "driving-aaron",
   "metadata": {},
   "outputs": [
    {
     "name": "stderr",
     "output_type": "stream",
     "text": [
      "C:\\Users\\user\\AppData\\Local\\Programs\\Python\\Python310\\lib\\site-packages\\scipy\\__init__.py:146: UserWarning: A NumPy version >=1.16.5 and <1.23.0 is required for this version of SciPy (detected version 1.24.4\n",
      "  warnings.warn(f\"A NumPy version >={np_minversion} and <{np_maxversion}\"\n"
     ]
    }
   ],
   "source": [
    "%matplotlib notebook\n",
    "import numpy as np\n",
    "import pandas as pd\n",
    "import seaborn as sn\n",
    "import matplotlib.pyplot as plt\n",
    "\n",
    "from sklearn.model_selection import train_test_split\n",
    "from sklearn.neighbors import KNeighborsClassifier"
   ]
  },
  {
   "cell_type": "markdown",
   "id": "varying-sheet",
   "metadata": {},
   "source": [
    "### Loading the dataset"
   ]
  },
  {
   "cell_type": "code",
   "execution_count": 7,
   "id": "present-arthritis",
   "metadata": {},
   "outputs": [],
   "source": [
    "crime = pd.read_table('CommViolPredUnnormalizedData.txt', sep=',', na_values='?')"
   ]
  },
  {
   "cell_type": "code",
   "execution_count": 9,
   "id": "liberal-market",
   "metadata": {},
   "outputs": [],
   "source": [
    "columns_to_keep = [5, 6] + list(range(11,26)) + list(range(32, 103)) + [145]  \n",
    "crime = crime.iloc[:,columns_to_keep].dropna()\n",
    "\n",
    "X_crime = crime.iloc[:,range(0,88)]\n",
    "y_crime = crime['ViolentCrimesPerPop']"
   ]
  },
  {
   "cell_type": "code",
   "execution_count": 10,
   "id": "danish-sierra",
   "metadata": {},
   "outputs": [
    {
     "data": {
      "text/html": [
       "<div>\n",
       "<style scoped>\n",
       "    .dataframe tbody tr th:only-of-type {\n",
       "        vertical-align: middle;\n",
       "    }\n",
       "\n",
       "    .dataframe tbody tr th {\n",
       "        vertical-align: top;\n",
       "    }\n",
       "\n",
       "    .dataframe thead th {\n",
       "        text-align: right;\n",
       "    }\n",
       "</style>\n",
       "<table border=\"1\" class=\"dataframe\">\n",
       "  <thead>\n",
       "    <tr style=\"text-align: right;\">\n",
       "      <th></th>\n",
       "      <th>population</th>\n",
       "      <th>householdsize</th>\n",
       "      <th>agePct12t21</th>\n",
       "      <th>agePct12t29</th>\n",
       "      <th>agePct16t24</th>\n",
       "      <th>agePct65up</th>\n",
       "      <th>numbUrban</th>\n",
       "      <th>pctUrban</th>\n",
       "      <th>medIncome</th>\n",
       "      <th>pctWWage</th>\n",
       "      <th>...</th>\n",
       "      <th>MedRentPctHousInc</th>\n",
       "      <th>MedOwnCostPctInc</th>\n",
       "      <th>MedOwnCostPctIncNoMtg</th>\n",
       "      <th>NumInShelters</th>\n",
       "      <th>NumStreet</th>\n",
       "      <th>PctForeignBorn</th>\n",
       "      <th>PctBornSameState</th>\n",
       "      <th>PctSameHouse85</th>\n",
       "      <th>PctSameCity85</th>\n",
       "      <th>PctSameState85</th>\n",
       "    </tr>\n",
       "  </thead>\n",
       "  <tbody>\n",
       "    <tr>\n",
       "      <th>0</th>\n",
       "      <td>11980</td>\n",
       "      <td>3.10</td>\n",
       "      <td>12.47</td>\n",
       "      <td>21.44</td>\n",
       "      <td>10.93</td>\n",
       "      <td>11.33</td>\n",
       "      <td>11980</td>\n",
       "      <td>100.0</td>\n",
       "      <td>75122</td>\n",
       "      <td>89.24</td>\n",
       "      <td>...</td>\n",
       "      <td>23.8</td>\n",
       "      <td>21.1</td>\n",
       "      <td>14.0</td>\n",
       "      <td>11</td>\n",
       "      <td>0</td>\n",
       "      <td>10.66</td>\n",
       "      <td>53.72</td>\n",
       "      <td>65.29</td>\n",
       "      <td>78.09</td>\n",
       "      <td>89.14</td>\n",
       "    </tr>\n",
       "    <tr>\n",
       "      <th>1</th>\n",
       "      <td>23123</td>\n",
       "      <td>2.82</td>\n",
       "      <td>11.01</td>\n",
       "      <td>21.30</td>\n",
       "      <td>10.48</td>\n",
       "      <td>17.18</td>\n",
       "      <td>23123</td>\n",
       "      <td>100.0</td>\n",
       "      <td>47917</td>\n",
       "      <td>78.99</td>\n",
       "      <td>...</td>\n",
       "      <td>27.6</td>\n",
       "      <td>20.7</td>\n",
       "      <td>12.5</td>\n",
       "      <td>0</td>\n",
       "      <td>0</td>\n",
       "      <td>8.30</td>\n",
       "      <td>77.17</td>\n",
       "      <td>71.27</td>\n",
       "      <td>90.22</td>\n",
       "      <td>96.12</td>\n",
       "    </tr>\n",
       "    <tr>\n",
       "      <th>2</th>\n",
       "      <td>29344</td>\n",
       "      <td>2.43</td>\n",
       "      <td>11.36</td>\n",
       "      <td>25.88</td>\n",
       "      <td>11.01</td>\n",
       "      <td>10.28</td>\n",
       "      <td>29344</td>\n",
       "      <td>100.0</td>\n",
       "      <td>35669</td>\n",
       "      <td>82.00</td>\n",
       "      <td>...</td>\n",
       "      <td>24.1</td>\n",
       "      <td>21.7</td>\n",
       "      <td>11.6</td>\n",
       "      <td>16</td>\n",
       "      <td>0</td>\n",
       "      <td>5.00</td>\n",
       "      <td>44.77</td>\n",
       "      <td>36.60</td>\n",
       "      <td>61.26</td>\n",
       "      <td>82.85</td>\n",
       "    </tr>\n",
       "    <tr>\n",
       "      <th>3</th>\n",
       "      <td>16656</td>\n",
       "      <td>2.40</td>\n",
       "      <td>12.55</td>\n",
       "      <td>25.20</td>\n",
       "      <td>12.19</td>\n",
       "      <td>17.57</td>\n",
       "      <td>0</td>\n",
       "      <td>0.0</td>\n",
       "      <td>20580</td>\n",
       "      <td>68.15</td>\n",
       "      <td>...</td>\n",
       "      <td>28.7</td>\n",
       "      <td>20.6</td>\n",
       "      <td>14.5</td>\n",
       "      <td>0</td>\n",
       "      <td>0</td>\n",
       "      <td>2.04</td>\n",
       "      <td>88.71</td>\n",
       "      <td>56.70</td>\n",
       "      <td>90.17</td>\n",
       "      <td>96.24</td>\n",
       "    </tr>\n",
       "    <tr>\n",
       "      <th>5</th>\n",
       "      <td>140494</td>\n",
       "      <td>2.45</td>\n",
       "      <td>18.09</td>\n",
       "      <td>32.89</td>\n",
       "      <td>20.04</td>\n",
       "      <td>13.26</td>\n",
       "      <td>140494</td>\n",
       "      <td>100.0</td>\n",
       "      <td>21577</td>\n",
       "      <td>75.78</td>\n",
       "      <td>...</td>\n",
       "      <td>26.4</td>\n",
       "      <td>17.3</td>\n",
       "      <td>11.7</td>\n",
       "      <td>327</td>\n",
       "      <td>4</td>\n",
       "      <td>1.49</td>\n",
       "      <td>64.35</td>\n",
       "      <td>42.29</td>\n",
       "      <td>70.61</td>\n",
       "      <td>85.66</td>\n",
       "    </tr>\n",
       "  </tbody>\n",
       "</table>\n",
       "<p>5 rows × 88 columns</p>\n",
       "</div>"
      ],
      "text/plain": [
       "   population  householdsize  agePct12t21  agePct12t29  agePct16t24  \\\n",
       "0       11980           3.10        12.47        21.44        10.93   \n",
       "1       23123           2.82        11.01        21.30        10.48   \n",
       "2       29344           2.43        11.36        25.88        11.01   \n",
       "3       16656           2.40        12.55        25.20        12.19   \n",
       "5      140494           2.45        18.09        32.89        20.04   \n",
       "\n",
       "   agePct65up  numbUrban  pctUrban  medIncome  pctWWage  ...  \\\n",
       "0       11.33      11980     100.0      75122     89.24  ...   \n",
       "1       17.18      23123     100.0      47917     78.99  ...   \n",
       "2       10.28      29344     100.0      35669     82.00  ...   \n",
       "3       17.57          0       0.0      20580     68.15  ...   \n",
       "5       13.26     140494     100.0      21577     75.78  ...   \n",
       "\n",
       "   MedRentPctHousInc  MedOwnCostPctInc  MedOwnCostPctIncNoMtg  NumInShelters  \\\n",
       "0               23.8              21.1                   14.0             11   \n",
       "1               27.6              20.7                   12.5              0   \n",
       "2               24.1              21.7                   11.6             16   \n",
       "3               28.7              20.6                   14.5              0   \n",
       "5               26.4              17.3                   11.7            327   \n",
       "\n",
       "   NumStreet  PctForeignBorn  PctBornSameState  PctSameHouse85  PctSameCity85  \\\n",
       "0          0           10.66             53.72           65.29          78.09   \n",
       "1          0            8.30             77.17           71.27          90.22   \n",
       "2          0            5.00             44.77           36.60          61.26   \n",
       "3          0            2.04             88.71           56.70          90.17   \n",
       "5          4            1.49             64.35           42.29          70.61   \n",
       "\n",
       "   PctSameState85  \n",
       "0           89.14  \n",
       "1           96.12  \n",
       "2           82.85  \n",
       "3           96.24  \n",
       "5           85.66  \n",
       "\n",
       "[5 rows x 88 columns]"
      ]
     },
     "execution_count": 10,
     "metadata": {},
     "output_type": "execute_result"
    }
   ],
   "source": [
    "X_crime.head()"
   ]
  },
  {
   "cell_type": "code",
   "execution_count": 11,
   "id": "south-milwaukee",
   "metadata": {},
   "outputs": [
    {
     "data": {
      "text/plain": [
       "2210    545.75\n",
       "2211    124.10\n",
       "2212    353.83\n",
       "2213    691.17\n",
       "2214    918.89\n",
       "Name: ViolentCrimesPerPop, dtype: float64"
      ]
     },
     "execution_count": 11,
     "metadata": {},
     "output_type": "execute_result"
    }
   ],
   "source": [
    "y_crime.tail()"
   ]
  },
  {
   "cell_type": "code",
   "execution_count": 12,
   "id": "introductory-discrimination",
   "metadata": {},
   "outputs": [],
   "source": [
    "from sklearn.neighbors import KNeighborsRegressor"
   ]
  },
  {
   "cell_type": "markdown",
   "id": "interstate-round",
   "metadata": {},
   "source": [
    "### Splitting the data into train and test"
   ]
  },
  {
   "cell_type": "code",
   "execution_count": 13,
   "id": "electric-regular",
   "metadata": {},
   "outputs": [],
   "source": [
    "X_train,X_test,y_train,y_test = train_test_split(X_crime,y_crime,random_state=0)"
   ]
  },
  {
   "attachments": {},
   "cell_type": "markdown",
   "id": "announced-heating",
   "metadata": {},
   "source": [
    "# Model 1 : KNeighbors Regressor"
   ]
  },
  {
   "cell_type": "code",
   "execution_count": 25,
   "id": "cathedral-stock",
   "metadata": {},
   "outputs": [],
   "source": [
    "knnreg = KNeighborsRegressor(n_neighbors=5).fit(X_train,y_train)"
   ]
  },
  {
   "cell_type": "code",
   "execution_count": 26,
   "id": "central-husband",
   "metadata": {},
   "outputs": [
    {
     "name": "stdout",
     "output_type": "stream",
     "text": [
      "[ 235.974 1683.778  288.038 1058.878  992.714   92.032  298.38   182.462\n",
      "  358.572  706.93   144.882 1817.366  161.736  481.892  264.468  597.794\n",
      "  507.398  250.334  515.374 1807.16   706.268 1241.876  823.928 1004.81\n",
      "  498.306  688.646  101.288  390.162  828.734 1216.092   65.538 1234.036\n",
      "  182.802  224.612  327.442 1584.234  487.768  302.58   797.184  936.26\n",
      " 1196.874  183.972  275.302 1426.184  156.352  309.028  210.548  807.692\n",
      "  797.886  570.124  188.904  421.252  459.214  258.226  246.226  493.976\n",
      "  114.58   325.854  696.428  512.578  353.446 1533.962 1225.87   840.686\n",
      " 1387.638  831.63   908.312 1044.314  610.698  729.078  153.218  600.322\n",
      "  209.222  609.808  679.134  565.336  784.304  329.286  285.418 1120.536\n",
      "  737.71  1091.064  235.214 1894.464  419.84  1568.496  278.668  203.396\n",
      "  171.064  670.28  1706.46  1085.366  330.388  145.928 1347.528 1219.364\n",
      "  388.344  301.448  188.422  274.378  153.28   985.916  140.646  915.542\n",
      "  567.846  718.996  455.78   363.344  270.47   480.574  632.014 1227.108\n",
      "  555.378  845.638  159.744  107.902 1492.192 1656.332  748.826  701.144\n",
      "  297.81   650.368  332.808  307.736   90.868  347.054  954.946  231.794\n",
      "  372.386  516.304  451.62   945.962  999.83   420.434  325.668  908.234\n",
      "  290.02    71.864  202.374   75.242  223.768  398.668  374.832  209.972\n",
      "  509.576 1099.092  302.566  129.682  299.1    164.11   285.752  918.418\n",
      "  212.33   545.666  302.49   584.194  388.414 1681.636  466.602  141.74\n",
      "  391.07   638.59   554.704  354.658  362.436 1281.604 1078.506  769.536\n",
      " 1253.706  633.274  367.238  421.968  750.754  130.222  305.664  835.71\n",
      "  300.868 1145.144  175.046  893.156  209.142  223.092  401.29   129.682\n",
      "  144.544  243.756  161.28   391.67   560.814  245.8    534.97   357.588\n",
      "  296.464 1004.81   416.996  478.444  229.626  258.24   303.986  271.844\n",
      "  598.536  742.108  764.104  482.134  449.262 1032.74   245.03   275.708\n",
      "  219.084  854.878  704.53   457.48   913.092  394.202  172.43    99.974\n",
      "  352.682 1081.664  542.538 1238.816  203.98   477.74   552.592  605.756\n",
      "  461.392 1144.448 1416.06   525.62   540.216  427.032  465.704  448.188\n",
      "  454.576 1025.102  260.926  799.742 1295.384  384.77   605.638  539.816\n",
      "  637.968  736.558  276.676  200.544 1094.188 1500.834  686.804  340.82\n",
      "  711.958  639.728 1301.966  533.002  450.424  402.502  517.032  594.424\n",
      "  246.26   550.41   408.172  351.388  465.56  1321.22   334.686  418.476\n",
      "  216.506  394.46   542.326  211.274  228.93   518.604  952.594 1365.31\n",
      "  256.094  235.748  151.742  654.072  272.688  330.24   722.52   168.794\n",
      "  923.058  333.414  810.546 1392.42   718.666  581.47   278.118  467.69\n",
      "  479.19   103.282  433.238  874.34  1215.416  159.096  204.928  140.146\n",
      "  785.806  212.882  758.732  757.564  194.006  957.514  347.584 1177.092\n",
      "  423.632  210.958  381.998   97.314  751.78   497.556  708.276  740.93\n",
      " 1005.522  217.636  246.714 1374.204  969.43   335.908 1331.782 1311.102\n",
      "  218.986  261.1    647.204  414.99   736.878  497.576 1801.72   604.662\n",
      "  618.552  140.524 1740.944  195.182  109.766  912.97   310.068  477.646\n",
      "  296.346   95.77   665.748  206.216  641.914  283.08   182.212  674.45\n",
      "  182.12   215.838  464.404  963.592 1417.152  324.88   611.216  738.136\n",
      "  827.87   773.986 1295.384  204.866  458.856  535.472  367.52   505.166\n",
      "   95.88   354.014 1110.438  267.78   959.43   130.494  461.526  375.144\n",
      "  443.58   200.204  379.36   421.502  820.194  787.838  848.752  235.836\n",
      " 1480.702  122.472  424.066 1533.962  464.18  1345.316  562.124  397.94\n",
      "  854.652  113.99   701.924  506.562  271.448  370.764  146.444  401.984\n",
      "  231.69  1031.83   374.81   163.198 1165.97   573.362  488.882  320.132\n",
      "  491.52   323.744  386.052  613.358  167.756  562.396  384.084  310.398\n",
      "  567.458  207.102  258.096 1302.794  142.24   582.238  655.286  606.292\n",
      "  417.702  298.214   85.516  633.072  462.042  970.604  144.886  994.448\n",
      "  731.328  246.024  923.21   602.11   551.976  378.486  544.378  957.734\n",
      "  119.608  577.83    75.97   309.706  504.73   269.336  917.044  469.282\n",
      "  235.53  1091.744  973.918 1385.586  587.538 1500.834  584.15   360.998\n",
      " 1120.536  481.544  811.294  139.606  153.828  274.87   494.512  200.238\n",
      "  440.692 1034.416  586.994 1647.172 1123.792  605.632  209.972  966.288\n",
      "  720.756  284.95   216.232  231.652 1153.57   403.41   549.808  611.226\n",
      "  244.82  1500.834 1207.258   97.898  121.608  347.85   299.43   889.004\n",
      "  135.818  297.166  562.688  985.88   248.288  591.832  460.124 1193.518\n",
      " 1534.052  589.52  1088.302  282.082  272.688  762.194  370.324  822.8\n",
      "  315.756  432.632  629.084]\n",
      "R-squared test score: 0.335\n"
     ]
    }
   ],
   "source": [
    "print(knnreg.predict(X_test))\n",
    "print('R-squared test score: {:.3f}'.format(knnreg.score(X_test,y_test)))"
   ]
  },
  {
   "cell_type": "markdown",
   "id": "underlying-output",
   "metadata": {},
   "source": [
    "# Model 2: Lasso Regression"
   ]
  },
  {
   "cell_type": "code",
   "execution_count": 28,
   "id": "expressed-greece",
   "metadata": {},
   "outputs": [],
   "source": [
    "from sklearn.linear_model import Lasso\n",
    "from sklearn.preprocessing import MinMaxScaler\n",
    "scaler = MinMaxScaler()"
   ]
  },
  {
   "cell_type": "code",
   "execution_count": 29,
   "id": "favorite-anchor",
   "metadata": {},
   "outputs": [],
   "source": [
    "X_train_scaled = scaler.fit_transform(X_train)\n",
    "X_test_scaled = scaler.transform(X_test)"
   ]
  },
  {
   "cell_type": "code",
   "execution_count": 30,
   "id": "suspended-telescope",
   "metadata": {},
   "outputs": [],
   "source": [
    "linlasso = Lasso(alpha=2.0, max_iter = 10000).fit(X_train_scaled, y_train)"
   ]
  },
  {
   "cell_type": "code",
   "execution_count": 32,
   "id": "exceptional-compact",
   "metadata": {},
   "outputs": [
    {
     "name": "stdout",
     "output_type": "stream",
     "text": [
      "lasso regression linear model intercept: 1186.6120619985795\n",
      "lasso regression linear model coeff:\n",
      "[    0.             0.            -0.          -168.18346054\n",
      "    -0.            -0.             0.           119.6938194\n",
      "     0.            -0.             0.          -169.67564456\n",
      "    -0.             0.            -0.             0.\n",
      "     0.             0.            -0.            -0.\n",
      "     0.            -0.             0.             0.\n",
      "   -57.52991966    -0.            -0.             0.\n",
      "   259.32889226    -0.             0.             0.\n",
      "     0.            -0.         -1188.7396867     -0.\n",
      "    -0.            -0.          -231.42347299     0.\n",
      "  1488.36512229     0.            -0.            -0.\n",
      "    -0.             0.             0.             0.\n",
      "     0.             0.            -0.             0.\n",
      "    20.14419415     0.             0.             0.\n",
      "     0.             0.           339.04468804     0.\n",
      "     0.           459.53799903    -0.             0.\n",
      "   122.69221826    -0.            91.41202242     0.\n",
      "    -0.             0.             0.            73.14365856\n",
      "     0.            -0.             0.             0.\n",
      "    86.35600042     0.             0.             0.\n",
      "  -104.57143405   264.93206555     0.            23.4488645\n",
      "   -49.39355188     0.             5.19775369     0.        ]\n",
      "Non-zero features: 20\n",
      "R-squared score (training): 0.631\n",
      "R-squared score (test): 0.624\n",
      "\n"
     ]
    }
   ],
   "source": [
    "print('lasso regression linear model intercept: {}'\n",
    "     .format(linlasso.intercept_))\n",
    "print('lasso regression linear model coeff:\\n{}'\n",
    "     .format(linlasso.coef_))\n",
    "print('Non-zero features: {}'\n",
    "     .format(np.sum(linlasso.coef_ != 0)))\n",
    "print('R-squared score (training): {:.3f}'\n",
    "     .format(linlasso.score(X_train_scaled, y_train)))\n",
    "print('R-squared score (test): {:.3f}\\n'\n",
    "     .format(linlasso.score(X_test_scaled, y_test)))"
   ]
  },
  {
   "cell_type": "markdown",
   "id": "comprehensive-secretariat",
   "metadata": {},
   "source": [
    "### Model 3 : Polynomial features with Linear Regression"
   ]
  },
  {
   "cell_type": "code",
   "execution_count": 45,
   "id": "material-innocent",
   "metadata": {},
   "outputs": [],
   "source": [
    "from sklearn.preprocessing import PolynomialFeatures\n",
    "from sklearn.linear_model import LinearRegression"
   ]
  },
  {
   "cell_type": "code",
   "execution_count": 41,
   "id": "generic-conjunction",
   "metadata": {},
   "outputs": [],
   "source": [
    "poly = PolynomialFeatures(degree=2)\n",
    "X_F1_poly = poly.fit_transform(X_crime)"
   ]
  },
  {
   "cell_type": "code",
   "execution_count": 42,
   "id": "metropolitan-front",
   "metadata": {},
   "outputs": [],
   "source": [
    "X_train, X_test, y_train, y_test = train_test_split(X_F1_poly,y_crime,random_state=0)"
   ]
  },
  {
   "cell_type": "code",
   "execution_count": 48,
   "id": "rubber-relationship",
   "metadata": {},
   "outputs": [],
   "source": [
    "linreg = LinearRegression().fit(X_train,y_train)"
   ]
  },
  {
   "cell_type": "code",
   "execution_count": 49,
   "id": "sustainable-barrel",
   "metadata": {},
   "outputs": [
    {
     "name": "stdout",
     "output_type": "stream",
     "text": [
      "(poly deg 2) linear model coeff (w):\n",
      "[-4.71057406e-07 -2.93382949e-01 -1.39505006e-04 ... -9.00839007e-02\n",
      " -3.60042702e-01  3.58959895e-01]\n",
      "(poly deg 2) linear model intercept (b): 15989.231\n",
      "(poly deg 2) R-squared score (training): 1.000\n",
      "(poly deg 2) R-squared score (test): -29667.160\n",
      "\n"
     ]
    }
   ],
   "source": [
    "print('(poly deg 2) linear model coeff (w):\\n{}'\n",
    "     .format(linreg.coef_))\n",
    "print('(poly deg 2) linear model intercept (b): {:.3f}'\n",
    "     .format(linreg.intercept_))\n",
    "print('(poly deg 2) R-squared score (training): {:.3f}'\n",
    "     .format(linreg.score(X_train, y_train)))\n",
    "print('(poly deg 2) R-squared score (test): {:.3f}\\n'\n",
    "     .format(linreg.score(X_test, y_test)))"
   ]
  },
  {
   "cell_type": "markdown",
   "id": "welsh-fossil",
   "metadata": {},
   "source": [
    "### Model 3: Ridge Regression with Polynomial features\n",
    "\n",
    "Addition of many polynomial features often leads to\n",
    "overfitting, so we often use polynomial features in combination\n",
    "with regression that has a regularization penalty, like ridge\n",
    "regression"
   ]
  },
  {
   "cell_type": "code",
   "execution_count": 53,
   "id": "emerging-bosnia",
   "metadata": {},
   "outputs": [],
   "source": [
    "from sklearn.linear_model import Ridge"
   ]
  },
  {
   "cell_type": "code",
   "execution_count": 54,
   "id": "fiscal-utility",
   "metadata": {},
   "outputs": [
    {
     "name": "stderr",
     "output_type": "stream",
     "text": [
      "C:\\Users\\user\\AppData\\Local\\Programs\\Python\\Python310\\lib\\site-packages\\sklearn\\linear_model\\_ridge.py:196: UserWarning: Singular matrix in solving dual problem. Using least-squares solution instead.\n",
      "  warnings.warn(\n"
     ]
    },
    {
     "name": "stdout",
     "output_type": "stream",
     "text": [
      "(poly deg 2 + ridge) linear model coeff (w):\n",
      "[ 0.00000000e+00  4.76316141e-06 -8.52988052e-10 ...  3.07813587e-05\n",
      "  2.07119036e-05  9.64493136e-06]\n",
      "(poly deg 2 + ridge) linear model intercept (b): 1569.967\n",
      "(poly deg 2 + ridge) R-squared score (training): 0.787\n",
      "(poly deg 2 + ridge) R-squared score (test): -19914.038\n"
     ]
    }
   ],
   "source": [
    "X_train, X_test, y_train, y_test = train_test_split(X_F1_poly, y_crime,\n",
    "                                                   random_state = 0)\n",
    "linreg = Ridge().fit(X_train, y_train)\n",
    "\n",
    "print('(poly deg 2 + ridge) linear model coeff (w):\\n{}'\n",
    "     .format(linreg.coef_))\n",
    "print('(poly deg 2 + ridge) linear model intercept (b): {:.3f}'\n",
    "     .format(linreg.intercept_))\n",
    "print('(poly deg 2 + ridge) R-squared score (training): {:.3f}'\n",
    "     .format(linreg.score(X_train, y_train)))\n",
    "print('(poly deg 2 + ridge) R-squared score (test): {:.3f}'\n",
    "     .format(linreg.score(X_test, y_test)))"
   ]
  }
 ],
 "metadata": {
  "kernelspec": {
   "display_name": "Python 3 (ipykernel)",
   "language": "python",
   "name": "python3"
  },
  "language_info": {
   "codemirror_mode": {
    "name": "ipython",
    "version": 3
   },
   "file_extension": ".py",
   "mimetype": "text/x-python",
   "name": "python",
   "nbconvert_exporter": "python",
   "pygments_lexer": "ipython3",
   "version": "3.10.0"
  }
 },
 "nbformat": 4,
 "nbformat_minor": 5
}
